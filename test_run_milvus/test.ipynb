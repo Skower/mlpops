{
 "cells": [
  {
   "cell_type": "markdown",
   "metadata": {},
   "source": [
    "## [Start Milvus](https://milvus.io/docs/install_standalone-docker.md#Start-Milvus)\n",
    "\n",
    "```bash\n",
    "sudo docker compose run -d\n",
    "```"
   ]
  },
  {
   "cell_type": "markdown",
   "metadata": {},
   "source": [
    "- Check everything runs correctly"
   ]
  },
  {
   "cell_type": "code",
   "execution_count": 1,
   "metadata": {},
   "outputs": [
    {
     "name": "stdout",
     "output_type": "stream",
     "text": [
      "NAME                IMAGE                                      COMMAND                  SERVICE             CREATED             STATUS                            PORTS\n",
      "milvus-etcd         quay.io/coreos/etcd:v3.5.5                 \"etcd -advertise-cli…\"   etcd                6 seconds ago       Up 5 seconds (health: starting)   2379-2380/tcp\n",
      "milvus-minio        minio/minio:RELEASE.2023-03-20T20-16-18Z   \"/usr/bin/docker-ent…\"   minio               6 seconds ago       Up 4 seconds (health: starting)   0.0.0.0:9000-9001->9000-9001/tcp, :::9000-9001->9000-9001/tcp\n",
      "milvus-standalone   milvusdb/milvus:v2.3.3                     \"/tini -- milvus run…\"   standalone          6 seconds ago       Up 4 seconds (health: starting)   0.0.0.0:9091->9091/tcp, :::9091->9091/tcp, 0.0.0.0:19530->19530/tcp, :::19530->19530/tcp\n"
     ]
    }
   ],
   "source": [
    "!docker compose ps\n"
   ]
  },
  {
   "cell_type": "markdown",
   "metadata": {},
   "source": [
    "- Get the port of Milvus:"
   ]
  },
  {
   "cell_type": "code",
   "execution_count": 2,
   "metadata": {},
   "outputs": [
    {
     "name": "stdout",
     "output_type": "stream",
     "text": [
      "0.0.0.0:19530\n",
      "[::]:19530\n"
     ]
    }
   ],
   "source": [
    "!docker port milvus-standalone 19530/tcp\n"
   ]
  },
  {
   "cell_type": "markdown",
   "metadata": {},
   "source": [
    "## Example Run"
   ]
  },
  {
   "cell_type": "markdown",
   "metadata": {},
   "source": [
    "- Imports a PyMilvus package:\n"
   ]
  },
  {
   "cell_type": "code",
   "execution_count": 3,
   "metadata": {},
   "outputs": [],
   "source": [
    "from pymilvus import (\n",
    "    connections,\n",
    "    utility,\n",
    "    FieldSchema,\n",
    "    CollectionSchema,\n",
    "    DataType,\n",
    "    Collection,\n",
    ")"
   ]
  },
  {
   "cell_type": "markdown",
   "metadata": {},
   "source": [
    "- Connects to a server:\n"
   ]
  },
  {
   "cell_type": "code",
   "execution_count": 4,
   "metadata": {},
   "outputs": [],
   "source": [
    "connections.connect(\"default\", host=\"localhost\", port=\"19530\")\n"
   ]
  },
  {
   "cell_type": "markdown",
   "metadata": {},
   "source": [
    "- Creates a collection:\n",
    " "
   ]
  },
  {
   "cell_type": "code",
   "execution_count": 5,
   "metadata": {},
   "outputs": [
    {
     "data": {
      "text/plain": [
       "<Collection>:\n",
       "-------------\n",
       "<name>: hello_milvus\n",
       "<description>: hello_milvus is the simplest demo to introduce the APIs\n",
       "<schema>: {'auto_id': False, 'description': 'hello_milvus is the simplest demo to introduce the APIs', 'fields': [{'name': 'pk', 'description': '', 'type': <DataType.INT64: 5>, 'is_primary': True, 'auto_id': False}, {'name': 'random', 'description': '', 'type': <DataType.DOUBLE: 11>}, {'name': 'embeddings', 'description': '', 'type': <DataType.FLOAT_VECTOR: 101>, 'params': {'dim': 8}}]}"
      ]
     },
     "execution_count": 5,
     "metadata": {},
     "output_type": "execute_result"
    }
   ],
   "source": [
    "fields = [\n",
    "    FieldSchema(name=\"pk\", dtype=DataType.INT64, is_primary=True, auto_id=False),\n",
    "    FieldSchema(name=\"random\", dtype=DataType.DOUBLE),\n",
    "    FieldSchema(name=\"embeddings\", dtype=DataType.FLOAT_VECTOR, dim=8)\n",
    "]\n",
    "schema = CollectionSchema(fields, \"hello_milvus is the simplest demo to introduce the APIs\")\n",
    "hello_milvus = Collection(\"hello_milvus\", schema)\n",
    "hello_milvus"
   ]
  },
  {
   "cell_type": "markdown",
   "metadata": {},
   "source": [
    "- Inserts vectors in the collection:\n"
   ]
  },
  {
   "cell_type": "code",
   "execution_count": 6,
   "metadata": {},
   "outputs": [],
   "source": [
    "import random\n",
    "entities = [\n",
    "    [i for i in range(3000)],  # field pk\n",
    "    [float(random.randrange(-20, -10)) for _ in range(3000)],  # field random\n",
    "    [[random.random() for _ in range(8)] for _ in range(3000)],  # field embeddings\n",
    "]\n",
    "insert_result = hello_milvus.insert(entities)\n",
    "hello_milvus.flush()  \n"
   ]
  },
  {
   "cell_type": "markdown",
   "metadata": {},
   "source": [
    "- Builds indexes on the entities:\n"
   ]
  },
  {
   "cell_type": "code",
   "execution_count": 7,
   "metadata": {},
   "outputs": [
    {
     "data": {
      "text/plain": [
       "Status(code=0, message=)"
      ]
     },
     "execution_count": 7,
     "metadata": {},
     "output_type": "execute_result"
    }
   ],
   "source": [
    "index = {\n",
    "    \"index_type\": \"IVF_FLAT\",\n",
    "    \"metric_type\": \"L2\",\n",
    "    \"params\": {\"nlist\": 128},\n",
    "}\n",
    "hello_milvus.create_index(\"embeddings\", index)\n"
   ]
  },
  {
   "cell_type": "markdown",
   "metadata": {},
   "source": [
    "- Loads the collection to memory and performs a vector similarity search:\n"
   ]
  },
  {
   "cell_type": "code",
   "execution_count": 8,
   "metadata": {},
   "outputs": [
    {
     "data": {
      "text/plain": [
       "['[\"id: 2998, distance: 0.0, entity: {\\'random\\': -15.0}\", \"id: 2347, distance: 0.1160244420170784, entity: {\\'random\\': -15.0}\", \"id: 302, distance: 0.20034097135066986, entity: {\\'random\\': -12.0}\"]', '[\"id: 2999, distance: 0.0, entity: {\\'random\\': -12.0}\", \"id: 164, distance: 0.12360914051532745, entity: {\\'random\\': -20.0}\", \"id: 724, distance: 0.14829647541046143, entity: {\\'random\\': -14.0}\"]']"
      ]
     },
     "execution_count": 8,
     "metadata": {},
     "output_type": "execute_result"
    }
   ],
   "source": [
    "hello_milvus.load()\n",
    "vectors_to_search = entities[-1][-2:]\n",
    "search_params = {\n",
    "    \"metric_type\": \"L2\",\n",
    "    \"params\": {\"nprobe\": 10},\n",
    "}\n",
    "result = hello_milvus.search(vectors_to_search, \"embeddings\", search_params, limit=3, output_fields=[\"random\"]) # Similarity search\n",
    "result"
   ]
  },
  {
   "cell_type": "markdown",
   "metadata": {},
   "source": [
    "- Performs a vector query:\n"
   ]
  },
  {
   "cell_type": "code",
   "execution_count": 9,
   "metadata": {},
   "outputs": [
    {
     "data": {
      "text/plain": [
       "[{'embeddings': [0.46464592,\n",
       "   0.19173644,\n",
       "   0.44714734,\n",
       "   0.23775755,\n",
       "   0.36889437,\n",
       "   0.23809732,\n",
       "   0.39155307,\n",
       "   0.9410035],\n",
       "  'pk': 6,\n",
       "  'random': -11.0},\n",
       " {'embeddings': [0.34762254,\n",
       "   0.2946214,\n",
       "   0.24401015,\n",
       "   0.163827,\n",
       "   0.6607513,\n",
       "   0.565676,\n",
       "   0.90860325,\n",
       "   0.47596365],\n",
       "  'pk': 10,\n",
       "  'random': -13.0},\n",
       " {'embeddings': [0.18230979,\n",
       "   0.55295897,\n",
       "   0.92754215,\n",
       "   0.16744952,\n",
       "   0.60794026,\n",
       "   0.06433548,\n",
       "   0.9459016,\n",
       "   0.2037491],\n",
       "  'pk': 14,\n",
       "  'random': -11.0},\n",
       " {'embeddings': [0.4370434,\n",
       "   0.13192105,\n",
       "   0.6272539,\n",
       "   0.0057994244,\n",
       "   0.2813594,\n",
       "   0.5032944,\n",
       "   0.96526426,\n",
       "   0.97722006],\n",
       "  'pk': 19,\n",
       "  'random': -12.0},\n",
       " {'embeddings': [0.6337357,\n",
       "   0.7868831,\n",
       "   0.5248237,\n",
       "   0.12394486,\n",
       "   0.93866414,\n",
       "   0.21057846,\n",
       "   0.5234568,\n",
       "   0.3306302],\n",
       "  'pk': 20,\n",
       "  'random': -12.0},\n",
       " {'embeddings': [0.28544936,\n",
       "   0.6728877,\n",
       "   0.7315763,\n",
       "   0.79570043,\n",
       "   0.65235496,\n",
       "   0.5261155,\n",
       "   0.61333984,\n",
       "   0.7120516],\n",
       "  'pk': 24,\n",
       "  'random': -12.0},\n",
       " {'embeddings': [0.92869776,\n",
       "   0.95921457,\n",
       "   0.06603721,\n",
       "   0.6853922,\n",
       "   0.15644397,\n",
       "   0.056054547,\n",
       "   0.44337428,\n",
       "   0.48786846],\n",
       "  'pk': 26,\n",
       "  'random': -13.0},\n",
       " {'embeddings': [0.27316812,\n",
       "   0.2698876,\n",
       "   0.0788445,\n",
       "   0.59671926,\n",
       "   0.63708115,\n",
       "   0.6373759,\n",
       "   0.9949862,\n",
       "   0.4065492],\n",
       "  'pk': 33,\n",
       "  'random': -11.0},\n",
       " {'embeddings': [0.8352818,\n",
       "   0.43989712,\n",
       "   0.20271385,\n",
       "   0.5092409,\n",
       "   0.069807425,\n",
       "   0.16142346,\n",
       "   0.6322935,\n",
       "   0.22335088],\n",
       "  'pk': 46,\n",
       "  'random': -12.0},\n",
       " {'embeddings': [0.86105174,\n",
       "   0.108086415,\n",
       "   0.40294898,\n",
       "   0.014652873,\n",
       "   0.2326107,\n",
       "   0.8430727,\n",
       "   0.13749076,\n",
       "   0.30345824],\n",
       "  'pk': 47,\n",
       "  'random': -12.0}]"
      ]
     },
     "execution_count": 9,
     "metadata": {},
     "output_type": "execute_result"
    }
   ],
   "source": [
    "result = hello_milvus.query(expr=\"random > -14\", output_fields=[\"random\", \"embeddings\"]) # Query based on expr\n",
    "result[:10]"
   ]
  },
  {
   "cell_type": "markdown",
   "metadata": {},
   "source": [
    "- Performs a hybrid search:\n"
   ]
  },
  {
   "cell_type": "code",
   "execution_count": 10,
   "metadata": {},
   "outputs": [
    {
     "data": {
      "text/plain": [
       "['[\"id: 2293, distance: 0.5049536824226379, entity: {\\'random\\': -11.0}\", \"id: 1061, distance: 0.5454369783401489, entity: {\\'random\\': -11.0}\", \"id: 2808, distance: 0.5913836359977722, entity: {\\'random\\': -11.0}\"]', '[\"id: 2738, distance: 0.20923709869384766, entity: {\\'random\\': -11.0}\", \"id: 1793, distance: 0.25962626934051514, entity: {\\'random\\': -11.0}\", \"id: 958, distance: 0.3039100766181946, entity: {\\'random\\': -11.0}\"]']"
      ]
     },
     "execution_count": 10,
     "metadata": {},
     "output_type": "execute_result"
    }
   ],
   "source": [
    "result = hello_milvus.search(vectors_to_search, \"embeddings\", search_params, limit=3, expr=\"random > -12\", output_fields=[\"random\"])\n",
    "result"
   ]
  },
  {
   "cell_type": "markdown",
   "metadata": {},
   "source": [
    "- Deletes entities by their primary keys:\n"
   ]
  },
  {
   "cell_type": "code",
   "execution_count": 11,
   "metadata": {},
   "outputs": [
    {
     "data": {
      "text/plain": [
       "(insert count: 0, delete count: 2, upsert count: 0, timestamp: 445611827024625665, success count: 0, err count: 0)"
      ]
     },
     "execution_count": 11,
     "metadata": {},
     "output_type": "execute_result"
    }
   ],
   "source": [
    "expr = f\"pk in [{entities[0][0]}, {entities[0][1]}]\"\n",
    "hello_milvus.delete(expr)\n"
   ]
  },
  {
   "cell_type": "markdown",
   "metadata": {},
   "source": [
    "- Drops the collection:\n"
   ]
  },
  {
   "cell_type": "code",
   "execution_count": 12,
   "metadata": {},
   "outputs": [],
   "source": [
    "utility.drop_collection(\"hello_milvus\")\n"
   ]
  },
  {
   "cell_type": "markdown",
   "metadata": {},
   "source": [
    "Congratulations! You have started Milvus standalone and performed your first vector similarity search.\n",
    "\n",
    "## [Stop Milvus](https://milvus.io/docs/install_standalone-docker.md#Stop-Milvus)"
   ]
  },
  {
   "cell_type": "code",
   "execution_count": 13,
   "metadata": {},
   "outputs": [
    {
     "name": "stdout",
     "output_type": "stream",
     "text": [
      "\u001b[1A\u001b[1B\u001b[0G\u001b[?25l[+] Running 0/0\n",
      " ⠋ Container milvus-standalone  Stopping                                   \u001b[34m0.1s \u001b[0m\n",
      "\u001b[?25h\u001b[1A\u001b[1A\u001b[0G\u001b[?25l[+] Running 0/1\n",
      " ⠙ Container milvus-standalone  Stopping                                   \u001b[34m0.2s \u001b[0m\n",
      "\u001b[?25h\u001b[1A\u001b[1A\u001b[0G\u001b[?25l[+] Running 0/1\n",
      " ⠹ Container milvus-standalone  Stopping                                   \u001b[34m0.3s \u001b[0m\n",
      "\u001b[?25h\u001b[1A\u001b[1A\u001b[0G\u001b[?25l[+] Running 0/1\n",
      " ⠸ Container milvus-standalone  Stopping                                   \u001b[34m0.4s \u001b[0m\n",
      "\u001b[?25h\u001b[1A\u001b[1A\u001b[0G\u001b[?25l[+] Running 0/1\n",
      " ⠼ Container milvus-standalone  Stopping                                   \u001b[34m0.5s \u001b[0m\n",
      "\u001b[?25h\u001b[1A\u001b[1A\u001b[0G\u001b[?25l[+] Running 0/1\n",
      " ⠴ Container milvus-standalone  Stopping                                   \u001b[34m0.6s \u001b[0m\n",
      "\u001b[?25h\u001b[1A\u001b[1A\u001b[0G\u001b[?25l[+] Running 0/1\n",
      " ⠦ Container milvus-standalone  Stopping                                   \u001b[34m0.7s \u001b[0m\n",
      "\u001b[?25h\u001b[1A\u001b[1A\u001b[0G\u001b[?25l[+] Running 0/1\n",
      " ⠧ Container milvus-standalone  Stopping                                   \u001b[34m0.8s \u001b[0m\n",
      "\u001b[?25h\u001b[1A\u001b[1A\u001b[0G\u001b[?25l[+] Running 0/1\n",
      " ⠇ Container milvus-standalone  Stopping                                   \u001b[34m0.9s \u001b[0m\n",
      "\u001b[?25h\u001b[1A\u001b[1A\u001b[0G\u001b[?25l[+] Running 0/1\n",
      " ⠏ Container milvus-standalone  Stopping                                   \u001b[34m1.0s \u001b[0m\n",
      "\u001b[?25h\u001b[1A\u001b[1A\u001b[0G\u001b[?25l[+] Running 0/1\n",
      " ⠋ Container milvus-standalone  Stopping                                   \u001b[34m1.1s \u001b[0m\n",
      "\u001b[?25h\u001b[1A\u001b[1A\u001b[0G\u001b[?25l[+] Running 0/1\n",
      " ⠙ Container milvus-standalone  Stopping                                   \u001b[34m1.2s \u001b[0m\n",
      "\u001b[?25h\u001b[1A\u001b[1A\u001b[0G\u001b[?25l[+] Running 0/1\n",
      " ⠹ Container milvus-standalone  Stopping                                   \u001b[34m1.3s \u001b[0m\n",
      "\u001b[?25h\u001b[1A\u001b[1A\u001b[0G\u001b[?25l[+] Running 0/1\n",
      " ⠸ Container milvus-standalone  Stopping                                   \u001b[34m1.4s \u001b[0m\n",
      "\u001b[?25h\u001b[1A\u001b[1A\u001b[0G\u001b[?25l[+] Running 0/1\n",
      " ⠼ Container milvus-standalone  Stopping                                   \u001b[34m1.5s \u001b[0m\n",
      "\u001b[?25h\u001b[1A\u001b[1A\u001b[0G\u001b[?25l[+] Running 0/1\n",
      " ⠴ Container milvus-standalone  Stopping                                   \u001b[34m1.6s \u001b[0m\n",
      "\u001b[?25h\u001b[1A\u001b[1A\u001b[0G\u001b[?25l[+] Running 0/1\n",
      " ⠦ Container milvus-standalone  Stopping                                   \u001b[34m1.7s \u001b[0m\n",
      "\u001b[?25h\u001b[1A\u001b[1A\u001b[0G\u001b[?25l[+] Running 0/1\n",
      " ⠧ Container milvus-standalone  Stopping                                   \u001b[34m1.8s \u001b[0m\n",
      "\u001b[?25h\u001b[1A\u001b[1A\u001b[0G\u001b[?25l[+] Running 0/1\n",
      " ⠇ Container milvus-standalone  Stopping                                   \u001b[34m1.9s \u001b[0m\n",
      "\u001b[?25h\u001b[1A\u001b[1A\u001b[0G\u001b[?25l[+] Running 0/1\n",
      " ⠏ Container milvus-standalone  Stopping                                   \u001b[34m2.0s \u001b[0m\n",
      "\u001b[?25h\u001b[1A\u001b[1A\u001b[0G\u001b[?25l[+] Running 0/1\n",
      " ⠋ Container milvus-standalone  Stopping                                   \u001b[34m2.1s \u001b[0m\n",
      "\u001b[?25h\u001b[1A\u001b[1A\u001b[0G\u001b[?25l[+] Running 0/1\n",
      " ⠙ Container milvus-standalone  Stopping                                   \u001b[34m2.2s \u001b[0m\n",
      "\u001b[?25h\u001b[1A\u001b[1A\u001b[0G\u001b[?25l[+] Running 0/1\n",
      " ⠹ Container milvus-standalone  Stopping                                   \u001b[34m2.3s \u001b[0m\n",
      "\u001b[?25h\u001b[1A\u001b[1A\u001b[0G\u001b[?25l[+] Running 0/1\n",
      " ⠸ Container milvus-standalone  Stopping                                   \u001b[34m2.4s \u001b[0m\n",
      "\u001b[?25h\u001b[1A\u001b[1A\u001b[0G\u001b[?25l[+] Running 0/1\n",
      " ⠼ Container milvus-standalone  Stopping                                   \u001b[34m2.5s \u001b[0m\n",
      "\u001b[?25h\u001b[1A\u001b[1A\u001b[0G\u001b[?25l[+] Running 0/1\n",
      " ⠴ Container milvus-standalone  Stopping                                   \u001b[34m2.6s \u001b[0m\n",
      "\u001b[?25h\u001b[1A\u001b[1A\u001b[0G\u001b[?25l[+] Running 0/1\n",
      " ⠦ Container milvus-standalone  Stopping                                   \u001b[34m2.7s \u001b[0m\n",
      "\u001b[?25h\u001b[1A\u001b[1A\u001b[0G\u001b[?25l[+] Running 0/1\n",
      " ⠧ Container milvus-standalone  Stopping                                   \u001b[34m2.8s \u001b[0m\n",
      "\u001b[?25h\u001b[1A\u001b[1A\u001b[0G\u001b[?25l[+] Running 0/1\n",
      " ⠇ Container milvus-standalone  Stopping                                   \u001b[34m2.9s \u001b[0m\n",
      "\u001b[?25h\u001b[1A\u001b[1A\u001b[0G\u001b[?25l[+] Running 0/1\n",
      " ⠏ Container milvus-standalone  Stopping                                   \u001b[34m3.0s \u001b[0m\n",
      "\u001b[?25h\u001b[1A\u001b[1A\u001b[0G\u001b[?25l[+] Running 0/1\n",
      " ⠋ Container milvus-standalone  Stopping                                   \u001b[34m3.1s \u001b[0m\n",
      "\u001b[?25h\u001b[1A\u001b[1A\u001b[0G\u001b[?25l[+] Running 0/1\n",
      " ⠙ Container milvus-standalone  Stopping                                   \u001b[34m3.2s \u001b[0m\n",
      "\u001b[?25h\u001b[1A\u001b[1A\u001b[0G\u001b[?25l[+] Running 0/1\n",
      " ⠹ Container milvus-standalone  Stopping                                   \u001b[34m3.3s \u001b[0m\n",
      "\u001b[?25h\u001b[1A\u001b[1A\u001b[0G\u001b[?25l[+] Running 0/1\n",
      " ⠸ Container milvus-standalone  Stopping                                   \u001b[34m3.4s \u001b[0m\n",
      "\u001b[?25h\u001b[1A\u001b[1A\u001b[0G\u001b[?25l[+] Running 0/1\n",
      " ⠼ Container milvus-standalone  Stopping                                   \u001b[34m3.5s \u001b[0m\n",
      "\u001b[?25h\u001b[1A\u001b[1A\u001b[0G\u001b[?25l[+] Running 0/1\n",
      " ⠴ Container milvus-standalone  Stopping                                   \u001b[34m3.6s \u001b[0m\n",
      "\u001b[?25h\u001b[1A\u001b[1A\u001b[0G\u001b[?25l[+] Running 0/1\n",
      " ⠦ Container milvus-standalone  Stopping                                   \u001b[34m3.7s \u001b[0m\n",
      "\u001b[?25h\u001b[1A\u001b[1A\u001b[0G\u001b[?25l[+] Running 0/1\n",
      " ⠧ Container milvus-standalone  Stopping                                   \u001b[34m3.8s \u001b[0m\n",
      "\u001b[?25h\u001b[1A\u001b[1A\u001b[0G\u001b[?25l[+] Running 0/1\n",
      " ⠇ Container milvus-standalone  Stopping                                   \u001b[34m3.9s \u001b[0m\n",
      "\u001b[?25h\u001b[1A\u001b[1A\u001b[0G\u001b[?25l[+] Running 0/1\n",
      " ⠏ Container milvus-standalone  Stopping                                   \u001b[34m4.0s \u001b[0m\n",
      "\u001b[?25h\u001b[1A\u001b[1A\u001b[0G\u001b[?25l[+] Running 0/1\n",
      " ⠋ Container milvus-standalone  Stopping                                   \u001b[34m4.1s \u001b[0m\n",
      "\u001b[?25h\u001b[1A\u001b[1A\u001b[0G\u001b[?25l[+] Running 0/1\n",
      " ⠙ Container milvus-standalone  Stopping                                   \u001b[34m4.2s \u001b[0m\n",
      "\u001b[?25h\u001b[1A\u001b[1A\u001b[0G\u001b[?25l[+] Running 0/1\n",
      " ⠹ Container milvus-standalone  Stopping                                   \u001b[34m4.3s \u001b[0m\n",
      "\u001b[?25h\u001b[1A\u001b[1A\u001b[0G\u001b[?25l[+] Running 0/1\n",
      " ⠸ Container milvus-standalone  Stopping                                   \u001b[34m4.4s \u001b[0m\n",
      "\u001b[?25h\u001b[1A\u001b[1A\u001b[0G\u001b[?25l[+] Running 0/1\n",
      " ⠼ Container milvus-standalone  Stopping                                   \u001b[34m4.5s \u001b[0m\n",
      "\u001b[?25h\u001b[1A\u001b[1A\u001b[0G\u001b[?25l[+] Running 0/1\n",
      " ⠴ Container milvus-standalone  Stopping                                   \u001b[34m4.6s \u001b[0m\n",
      "\u001b[?25h\u001b[1A\u001b[1A\u001b[0G\u001b[?25l[+] Running 0/1\n",
      " ⠦ Container milvus-standalone  Stopping                                   \u001b[34m4.7s \u001b[0m\n",
      "\u001b[?25h\u001b[1A\u001b[1A\u001b[0G\u001b[?25l[+] Running 0/1\n",
      " ⠧ Container milvus-standalone  Stopping                                   \u001b[34m4.8s \u001b[0m\n",
      "\u001b[?25h\u001b[1A\u001b[1A\u001b[0G\u001b[?25l[+] Running 0/1\n",
      " ⠇ Container milvus-standalone  Stopping                                   \u001b[34m4.9s \u001b[0m\n",
      "\u001b[?25h\u001b[1A\u001b[1A\u001b[0G\u001b[?25l[+] Running 0/1\n",
      " ⠏ Container milvus-standalone  Stopping                                   \u001b[34m5.0s \u001b[0m\n",
      "\u001b[?25h\u001b[1A\u001b[1A\u001b[0G\u001b[?25l[+] Running 0/1\n",
      " ⠋ Container milvus-standalone  Stopping                                   \u001b[34m5.1s \u001b[0m\n",
      "\u001b[?25h\u001b[1A\u001b[1A\u001b[0G\u001b[?25l[+] Running 0/1\n",
      " ⠙ Container milvus-standalone  Stopping                                   \u001b[34m5.2s \u001b[0m\n",
      "\u001b[?25h\u001b[1A\u001b[1A\u001b[0G\u001b[?25l[+] Running 0/1\n",
      " ⠹ Container milvus-standalone  Stopping                                   \u001b[34m5.3s \u001b[0m\n",
      "\u001b[?25h\u001b[1A\u001b[1A\u001b[0G\u001b[?25l[+] Running 0/1\n",
      " ⠸ Container milvus-standalone  Stopping                                   \u001b[34m5.4s \u001b[0m\n",
      "\u001b[?25h\u001b[1A\u001b[1A\u001b[0G\u001b[?25l[+] Running 0/1\n",
      " ⠼ Container milvus-standalone  Stopping                                   \u001b[34m5.5s \u001b[0m\n",
      "\u001b[?25h\u001b[1A\u001b[1A\u001b[0G\u001b[?25l[+] Running 0/1\n",
      " ⠴ Container milvus-standalone  Stopping                                   \u001b[34m5.6s \u001b[0m\n",
      "\u001b[?25h\u001b[1A\u001b[1A\u001b[0G\u001b[?25l[+] Running 0/1\n",
      " ⠦ Container milvus-standalone  Stopping                                   \u001b[34m5.7s \u001b[0m\n",
      "\u001b[?25h\u001b[1A\u001b[1A\u001b[0G\u001b[?25l[+] Running 0/1\n",
      " ⠧ Container milvus-standalone  Stopping                                   \u001b[34m5.8s \u001b[0m\n",
      "\u001b[?25h\u001b[1A\u001b[1A\u001b[0G\u001b[?25l[+] Running 0/1\n",
      " ⠇ Container milvus-standalone  Stopping                                   \u001b[34m5.9s \u001b[0m\n",
      "\u001b[?25h\u001b[1A\u001b[1A\u001b[0G\u001b[?25l[+] Running 0/1\n",
      " ⠏ Container milvus-standalone  Stopping                                   \u001b[34m6.0s \u001b[0m\n",
      "\u001b[?25h\u001b[1A\u001b[1A\u001b[0G\u001b[?25l[+] Running 0/1\n",
      " ⠋ Container milvus-standalone  Stopping                                   \u001b[34m6.1s \u001b[0m\n",
      "\u001b[?25h\u001b[1A\u001b[1A\u001b[0G\u001b[?25l[+] Running 0/1\n",
      " ⠙ Container milvus-standalone  Stopping                                   \u001b[34m6.2s \u001b[0m\n",
      "\u001b[?25h\u001b[1A\u001b[1A\u001b[0G\u001b[?25l[+] Running 0/1\n",
      " ⠹ Container milvus-standalone  Stopping                                   \u001b[34m6.3s \u001b[0m\n",
      "\u001b[?25h\u001b[1A\u001b[1A\u001b[0G\u001b[?25l[+] Running 0/1\n",
      " ⠸ Container milvus-standalone  Stopping                                   \u001b[34m6.4s \u001b[0m\n",
      "\u001b[?25h\u001b[1A\u001b[1A\u001b[0G\u001b[?25l[+] Running 0/1\n",
      " ⠼ Container milvus-standalone  Stopping                                   \u001b[34m6.5s \u001b[0m\n",
      "\u001b[?25h\u001b[1A\u001b[1A\u001b[0G\u001b[?25l[+] Running 0/1\n",
      " ⠴ Container milvus-standalone  Stopping                                   \u001b[34m6.6s \u001b[0m\n",
      "\u001b[?25h\u001b[1A\u001b[1A\u001b[0G\u001b[?25l[+] Running 0/1\n",
      " ⠦ Container milvus-standalone  Stopping                                   \u001b[34m6.7s \u001b[0m\n",
      "\u001b[?25h\u001b[1A\u001b[1A\u001b[0G\u001b[?25l[+] Running 0/1\n",
      " ⠧ Container milvus-standalone  Stopping                                   \u001b[34m6.8s \u001b[0m\n",
      "\u001b[?25h\u001b[1A\u001b[1A\u001b[0G\u001b[?25l[+] Running 0/1\n",
      " ⠇ Container milvus-standalone  Stopping                                   \u001b[34m6.9s \u001b[0m\n",
      "\u001b[?25h\u001b[1A\u001b[1A\u001b[0G\u001b[?25l[+] Running 0/1\n",
      " ⠏ Container milvus-standalone  Stopping                                   \u001b[34m7.0s \u001b[0m\n",
      "\u001b[?25h\u001b[1A\u001b[1A\u001b[0G\u001b[?25l[+] Running 0/1\n",
      " ⠋ Container milvus-standalone  Stopping                                   \u001b[34m7.1s \u001b[0m\n",
      "\u001b[?25h\u001b[1A\u001b[1A\u001b[0G\u001b[?25l[+] Running 0/1\n",
      " ⠙ Container milvus-standalone  Stopping                                   \u001b[34m7.2s \u001b[0m\n",
      "\u001b[?25h\u001b[1A\u001b[1A\u001b[0G\u001b[?25l[+] Running 0/1\n",
      " ⠹ Container milvus-standalone  Stopping                                   \u001b[34m7.3s \u001b[0m\n",
      "\u001b[?25h\u001b[1A\u001b[1A\u001b[0G\u001b[?25l[+] Running 0/1\n",
      " ⠸ Container milvus-standalone  Stopping                                   \u001b[34m7.4s \u001b[0m\n",
      "\u001b[?25h\u001b[1A\u001b[1A\u001b[0G\u001b[?25l[+] Running 0/1\n",
      " ⠼ Container milvus-standalone  Stopping                                   \u001b[34m7.5s \u001b[0m\n",
      "\u001b[?25h\u001b[1A\u001b[1A\u001b[0G\u001b[?25l[+] Running 0/1\n",
      " ⠴ Container milvus-standalone  Stopping                                   \u001b[34m7.6s \u001b[0m\n",
      "\u001b[?25h\u001b[1A\u001b[1A\u001b[0G\u001b[?25l[+] Running 0/1\n",
      " ⠦ Container milvus-standalone  Stopping                                   \u001b[34m7.7s \u001b[0m\n",
      "\u001b[?25h\u001b[1A\u001b[1A\u001b[0G\u001b[?25l[+] Running 0/1\n",
      " ⠧ Container milvus-standalone  Stopping                                   \u001b[34m7.8s \u001b[0m\n",
      "\u001b[?25h\u001b[1A\u001b[1A\u001b[0G\u001b[?25l[+] Running 0/1\n",
      " ⠇ Container milvus-standalone  Stopping                                   \u001b[34m7.9s \u001b[0m\n",
      "\u001b[?25h\u001b[1A\u001b[1A\u001b[0G\u001b[?25l[+] Running 0/1\n",
      " ⠏ Container milvus-standalone  Stopping                                   \u001b[34m8.0s \u001b[0m\n",
      "\u001b[?25h\u001b[1A\u001b[1A\u001b[0G\u001b[?25l[+] Running 0/1\n",
      " ⠋ Container milvus-standalone  Stopping                                   \u001b[34m8.1s \u001b[0m\n",
      "\u001b[?25h\u001b[1A\u001b[1A\u001b[0G\u001b[?25l[+] Running 0/1\n",
      " ⠙ Container milvus-standalone  Stopping                                   \u001b[34m8.2s \u001b[0m\n",
      "\u001b[?25h\u001b[1A\u001b[1A\u001b[0G\u001b[?25l[+] Running 0/1\n",
      " ⠹ Container milvus-standalone  Stopping                                   \u001b[34m8.3s \u001b[0m\n",
      "\u001b[?25h\u001b[1A\u001b[1A\u001b[0G\u001b[?25l[+] Running 0/1\n",
      " ⠸ Container milvus-standalone  Stopping                                   \u001b[34m8.4s \u001b[0m\n",
      "\u001b[?25h\u001b[1A\u001b[1A\u001b[0G\u001b[?25l[+] Running 0/1\n",
      " ⠼ Container milvus-standalone  Stopping                                   \u001b[34m8.5s \u001b[0m\n",
      "\u001b[?25h\u001b[1A\u001b[1A\u001b[0G\u001b[?25l[+] Running 0/1\n",
      " ⠴ Container milvus-standalone  Stopping                                   \u001b[34m8.6s \u001b[0m\n",
      "\u001b[?25h\u001b[1A\u001b[1A\u001b[0G\u001b[?25l[+] Running 0/1\n",
      " ⠦ Container milvus-standalone  Stopping                                   \u001b[34m8.7s \u001b[0m\n",
      "\u001b[?25h\u001b[1A\u001b[1A\u001b[0G\u001b[?25l[+] Running 0/1\n",
      " ⠧ Container milvus-standalone  Stopping                                   \u001b[34m8.8s \u001b[0m\n",
      "\u001b[?25h\u001b[1A\u001b[1A\u001b[0G\u001b[?25l[+] Running 0/1\n",
      " ⠇ Container milvus-standalone  Stopping                                   \u001b[34m8.9s \u001b[0m\n",
      "\u001b[?25h\u001b[1A\u001b[1A\u001b[0G\u001b[?25l[+] Running 0/1\n",
      " ⠏ Container milvus-standalone  Stopping                                   \u001b[34m9.0s \u001b[0m\n",
      "\u001b[?25h\u001b[1A\u001b[1A\u001b[0G\u001b[?25l[+] Running 0/1\n",
      " ⠋ Container milvus-standalone  Stopping                                   \u001b[34m9.1s \u001b[0m\n",
      "\u001b[?25h\u001b[1A\u001b[1A\u001b[0G\u001b[?25l[+] Running 0/1\n",
      " ⠙ Container milvus-standalone  Stopping                                   \u001b[34m9.2s \u001b[0m\n",
      "\u001b[?25h\u001b[1A\u001b[1A\u001b[0G\u001b[?25l[+] Running 0/1\n",
      " ⠹ Container milvus-standalone  Stopping                                   \u001b[34m9.3s \u001b[0m\n",
      "\u001b[?25h\u001b[1A\u001b[1A\u001b[0G\u001b[?25l[+] Running 0/1\n",
      " ⠸ Container milvus-standalone  Stopping                                   \u001b[34m9.4s \u001b[0m\n",
      "\u001b[?25h\u001b[1A\u001b[1A\u001b[0G\u001b[?25l[+] Running 0/1\n",
      " ⠼ Container milvus-standalone  Stopping                                   \u001b[34m9.5s \u001b[0m\n",
      "\u001b[?25h\u001b[1A\u001b[1A\u001b[0G\u001b[?25l[+] Running 0/1\n",
      " ⠴ Container milvus-standalone  Stopping                                   \u001b[34m9.6s \u001b[0m\n",
      "\u001b[?25h\u001b[1A\u001b[1A\u001b[0G\u001b[?25l[+] Running 0/1\n",
      " ⠦ Container milvus-standalone  Stopping                                   \u001b[34m9.7s \u001b[0m\n",
      "\u001b[?25h\u001b[1A\u001b[1A\u001b[0G\u001b[?25l[+] Running 0/1\n",
      " ⠧ Container milvus-standalone  Stopping                                   \u001b[34m9.8s \u001b[0m\n",
      "\u001b[?25h\u001b[1A\u001b[1A\u001b[0G\u001b[?25l[+] Running 0/1\n",
      " ⠇ Container milvus-standalone  Stopping                                   \u001b[34m9.9s \u001b[0m\n",
      "\u001b[?25h\u001b[1A\u001b[1A\u001b[0G\u001b[?25l[+] Running 0/1\n",
      " ⠏ Container milvus-standalone  Stopping                                  \u001b[34m10.0s \u001b[0m\n",
      "\u001b[?25h\u001b[1A\u001b[1A\u001b[0G\u001b[?25l[+] Running 0/1\n",
      " ⠋ Container milvus-standalone  Stopping                                  \u001b[34m10.1s \u001b[0m\n",
      "\u001b[?25h\u001b[1A\u001b[1A\u001b[0G\u001b[?25l[+] Running 0/1\n",
      " ⠙ Container milvus-standalone  Stopping                                  \u001b[34m10.2s \u001b[0m\n",
      "\u001b[?25h\u001b[1A\u001b[1A\u001b[0G\u001b[?25l[+] Running 0/1\n",
      " ⠹ Container milvus-standalone  Stopping                                  \u001b[34m10.3s \u001b[0m\n",
      "\u001b[?25h\u001b[1A\u001b[1A\u001b[0G\u001b[?25l[+] Running 0/1\n",
      " ⠸ Container milvus-standalone  Stopping                                  \u001b[34m10.4s \u001b[0m\n",
      "\u001b[?25h\u001b[1A\u001b[1A\u001b[0G\u001b[?25l\u001b[34m[+] Running 1/1\u001b[0m\n",
      " \u001b[32m✔\u001b[0m Container milvus-standalone  \u001b[32mRemoved\u001b[0m                                   \u001b[34m10.4s \u001b[0m\n",
      " ⠋ Container milvus-etcd        Stopping                                   \u001b[34m0.0s \u001b[0m\n",
      " ⠋ Container milvus-minio       Stopping                                   \u001b[34m0.0s \u001b[0m\n",
      "\u001b[?25h\u001b[1A\u001b[1A\u001b[1A\u001b[1A\u001b[0G\u001b[?25l[+] Running 1/3\n",
      " \u001b[32m✔\u001b[0m Container milvus-standalone  \u001b[32mRemoved\u001b[0m                                   \u001b[34m10.4s \u001b[0m\n",
      " ⠙ Container milvus-etcd        Stopping                                   \u001b[34m0.1s \u001b[0m\n",
      " ⠙ Container milvus-minio       Stopping                                   \u001b[34m0.1s \u001b[0m\n",
      "\u001b[?25h\u001b[1A\u001b[1A\u001b[1A\u001b[1A\u001b[0G\u001b[?25l[+] Running 1/3\n",
      " \u001b[32m✔\u001b[0m Container milvus-standalone  \u001b[32mRemoved\u001b[0m                                   \u001b[34m10.4s \u001b[0m\n",
      " ⠹ Container milvus-etcd        Stopping                                   \u001b[34m0.2s \u001b[0m\n",
      " ⠹ Container milvus-minio       Stopping                                   \u001b[34m0.2s \u001b[0m\n",
      "\u001b[?25h\u001b[1A\u001b[1A\u001b[1A\u001b[1A\u001b[0G\u001b[?25l[+] Running 1/3\n",
      " \u001b[32m✔\u001b[0m Container milvus-standalone  \u001b[32mRemoved\u001b[0m                                   \u001b[34m10.4s \u001b[0m\n",
      " ⠸ Container milvus-etcd        Stopping                                   \u001b[34m0.3s \u001b[0m\n",
      " ⠸ Container milvus-minio       Stopping                                   \u001b[34m0.3s \u001b[0m\n",
      "\u001b[?25h\u001b[1A\u001b[1A\u001b[1A\u001b[1A\u001b[0G\u001b[?25l[+] Running 2/3\n",
      " \u001b[32m✔\u001b[0m Container milvus-standalone  \u001b[32mRemoved\u001b[0m                                   \u001b[34m10.4s \u001b[0m\n",
      " \u001b[32m✔\u001b[0m Container milvus-etcd        \u001b[32mRemoved\u001b[0m                                    \u001b[34m0.3s \u001b[0m\n",
      " ⠼ Container milvus-minio       Stopping                                   \u001b[34m0.4s \u001b[0m\n",
      "\u001b[?25h\u001b[1A\u001b[1A\u001b[1A\u001b[1A\u001b[0G\u001b[?25l[+] Running 2/3\n",
      " \u001b[32m✔\u001b[0m Container milvus-standalone  \u001b[32mRemoved\u001b[0m                                   \u001b[34m10.4s \u001b[0m\n",
      " \u001b[32m✔\u001b[0m Container milvus-etcd        \u001b[32mRemoved\u001b[0m                                    \u001b[34m0.3s \u001b[0m\n",
      " ⠴ Container milvus-minio       Stopping                                   \u001b[34m0.5s \u001b[0m\n",
      "\u001b[?25h\u001b[1A\u001b[1A\u001b[1A\u001b[1A\u001b[0G\u001b[?25l[+] Running 2/3\n",
      " \u001b[32m✔\u001b[0m Container milvus-standalone  \u001b[32mRemoved\u001b[0m                                   \u001b[34m10.4s \u001b[0m\n",
      " \u001b[32m✔\u001b[0m Container milvus-etcd        \u001b[32mRemoved\u001b[0m                                    \u001b[34m0.3s \u001b[0m\n",
      " ⠦ Container milvus-minio       Stopping                                   \u001b[34m0.6s \u001b[0m\n",
      "\u001b[?25h\u001b[1A\u001b[1A\u001b[1A\u001b[1A\u001b[0G\u001b[?25l[+] Running 2/3\n",
      " \u001b[32m✔\u001b[0m Container milvus-standalone  \u001b[32mRemoved\u001b[0m                                   \u001b[34m10.4s \u001b[0m\n",
      " \u001b[32m✔\u001b[0m Container milvus-etcd        \u001b[32mRemoved\u001b[0m                                    \u001b[34m0.3s \u001b[0m\n",
      " ⠧ Container milvus-minio       Stopping                                   \u001b[34m0.7s \u001b[0m\n",
      "\u001b[?25h\u001b[1A\u001b[1A\u001b[1A\u001b[1A\u001b[0G\u001b[?25l[+] Running 2/3\n",
      " \u001b[32m✔\u001b[0m Container milvus-standalone  \u001b[32mRemoved\u001b[0m                                   \u001b[34m10.4s \u001b[0m\n",
      " \u001b[32m✔\u001b[0m Container milvus-etcd        \u001b[32mRemoved\u001b[0m                                    \u001b[34m0.3s \u001b[0m\n",
      " ⠇ Container milvus-minio       Stopping                                   \u001b[34m0.8s \u001b[0m\n",
      "\u001b[?25h\u001b[1A\u001b[1A\u001b[1A\u001b[1A\u001b[0G\u001b[?25l\u001b[34m[+] Running 3/3\u001b[0m\n",
      " \u001b[32m✔\u001b[0m Container milvus-standalone  \u001b[32mRemoved\u001b[0m                                   \u001b[34m10.4s \u001b[0m\n",
      " \u001b[32m✔\u001b[0m Container milvus-etcd        \u001b[32mRemoved\u001b[0m                                    \u001b[34m0.3s \u001b[0m\n",
      " \u001b[32m✔\u001b[0m Container milvus-minio       \u001b[32mStopped\u001b[0m                                    \u001b[34m0.9s \u001b[0m\n",
      "\u001b[?25h\u001b[1A\u001b[1A\u001b[1A\u001b[1A\u001b[0G\u001b[?25l\u001b[34m[+] Running 3/3\u001b[0m\n",
      " \u001b[32m✔\u001b[0m Container milvus-standalone  \u001b[32mRemoved\u001b[0m                                   \u001b[34m10.4s \u001b[0m\n",
      " \u001b[32m✔\u001b[0m Container milvus-etcd        \u001b[32mRemoved\u001b[0m                                    \u001b[34m0.3s \u001b[0m\n",
      " \u001b[32m✔\u001b[0m Container milvus-minio       \u001b[32mRemoved\u001b[0m                                    \u001b[34m0.9s \u001b[0m\n",
      " ⠋ Network milvus               Removing                                   \u001b[34m0.1s \u001b[0m\n",
      "\u001b[?25h\u001b[1A\u001b[1A\u001b[1A\u001b[1A\u001b[1A\u001b[0G\u001b[?25l[+] Running 3/4\n",
      " \u001b[32m✔\u001b[0m Container milvus-standalone  \u001b[32mRemoved\u001b[0m                                   \u001b[34m10.4s \u001b[0m\n",
      " \u001b[32m✔\u001b[0m Container milvus-etcd        \u001b[32mRemoved\u001b[0m                                    \u001b[34m0.3s \u001b[0m\n",
      " \u001b[32m✔\u001b[0m Container milvus-minio       \u001b[32mRemoved\u001b[0m                                    \u001b[34m0.9s \u001b[0m\n",
      " ⠙ Network milvus               Removing                                   \u001b[34m0.2s \u001b[0m\n",
      "\u001b[?25h\u001b[1A\u001b[1A\u001b[1A\u001b[1A\u001b[1A\u001b[0G\u001b[?25l[+] Running 3/4\n",
      " \u001b[32m✔\u001b[0m Container milvus-standalone  \u001b[32mRemoved\u001b[0m                                   \u001b[34m10.4s \u001b[0m\n",
      " \u001b[32m✔\u001b[0m Container milvus-etcd        \u001b[32mRemoved\u001b[0m                                    \u001b[34m0.3s \u001b[0m\n",
      " \u001b[32m✔\u001b[0m Container milvus-minio       \u001b[32mRemoved\u001b[0m                                    \u001b[34m0.9s \u001b[0m\n",
      " ⠹ Network milvus               Removing                                   \u001b[34m0.3s \u001b[0m\n",
      "\u001b[?25h\u001b[1A\u001b[1A\u001b[1A\u001b[1A\u001b[1A\u001b[0G\u001b[?25l\u001b[34m[+] Running 4/4\u001b[0m\n",
      " \u001b[32m✔\u001b[0m Container milvus-standalone  \u001b[32mRemoved\u001b[0m                                   \u001b[34m10.4s \u001b[0m\n",
      " \u001b[32m✔\u001b[0m Container milvus-etcd        \u001b[32mRemoved\u001b[0m                                    \u001b[34m0.3s \u001b[0m\n",
      " \u001b[32m✔\u001b[0m Container milvus-minio       \u001b[32mRemoved\u001b[0m                                    \u001b[34m0.9s \u001b[0m\n",
      " \u001b[32m✔\u001b[0m Network milvus               \u001b[32mRemoved\u001b[0m                                    \u001b[34m0.4s \u001b[0m\n",
      "\u001b[?25h"
     ]
    }
   ],
   "source": [
    "!docker compose down"
   ]
  },
  {
   "cell_type": "markdown",
   "metadata": {},
   "source": [
    "- To delete the data, delete the `volume` directory."
   ]
  }
 ],
 "metadata": {
  "kernelspec": {
   "display_name": ".venv",
   "language": "python",
   "name": "python3"
  },
  "language_info": {
   "codemirror_mode": {
    "name": "ipython",
    "version": 3
   },
   "file_extension": ".py",
   "mimetype": "text/x-python",
   "name": "python",
   "nbconvert_exporter": "python",
   "pygments_lexer": "ipython3",
   "version": "3.10.13"
  },
  "orig_nbformat": 4
 },
 "nbformat": 4,
 "nbformat_minor": 2
}
